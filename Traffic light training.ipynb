{
 "cells": [
  {
   "cell_type": "code",
   "execution_count": 1,
   "id": "11c92739",
   "metadata": {},
   "outputs": [],
   "source": [
    "import numpy as np\n",
    "data=np.load('data.npy')\n",
    "target=np.load('target.npy')"
   ]
  },
  {
   "cell_type": "code",
   "execution_count": 2,
   "id": "f80aa57e",
   "metadata": {},
   "outputs": [],
   "source": [
    "from keras.models import Sequential\n",
    "from keras.layers import Dense,Activation,Flatten,Dropout\n",
    "from keras.layers import Conv2D,MaxPooling2D\n",
    "from keras.callbacks import ModelCheckpoint"
   ]
  },
  {
   "cell_type": "code",
   "execution_count": 16,
   "id": "d9a03dd5",
   "metadata": {},
   "outputs": [],
   "source": [
    "model=Sequential()\n",
    "model.add(Conv2D(300,(3,3),input_shape=data.shape[1:],padding='same'))\n",
    "model.add(Activation('relu'))\n",
    "model.add(MaxPooling2D(pool_size=(2,2)))\n",
    "\n",
    "model.add(Conv2D(250,(3,3),input_shape=data.shape[1:],padding='same'))\n",
    "model.add(Activation('relu'))\n",
    "model.add(MaxPooling2D(pool_size=(2,2)))\n",
    "\n",
    "model.add(Conv2D(200,(3,3),input_shape=data.shape[1:],padding='same'))\n",
    "model.add(Activation('relu'))\n",
    "model.add(MaxPooling2D(pool_size=(2,2)))\n",
    "\n",
    "model.add(Conv2D(150,(3,3),input_shape=data.shape[1:],padding='same'))\n",
    "model.add(Activation('relu'))\n",
    "model.add(MaxPooling2D(pool_size=(2,2)))\n",
    "\n",
    "model.add(Conv2D(100,(3,3),input_shape=data.shape[1:],padding='same'))\n",
    "model.add(Activation('relu'))\n",
    "model.add(MaxPooling2D(pool_size=(2,2)))\n",
    "\n",
    "model.add(Flatten())\n",
    "model.add(Dropout(0.5))\n",
    "model.add(Dense(50,activation='relu'))\n",
    "model.add(Dense(7,activation='softmax'))"
   ]
  },
  {
   "cell_type": "code",
   "execution_count": 17,
   "id": "efd40254",
   "metadata": {},
   "outputs": [],
   "source": [
    "model.compile(loss='categorical_crossentropy',optimizer='adam',metrics=['accuracy'])"
   ]
  },
  {
   "cell_type": "code",
   "execution_count": 18,
   "id": "181d754e",
   "metadata": {},
   "outputs": [],
   "source": [
    "from sklearn.model_selection import train_test_split\n",
    "trainx,testx,trainy,testy=train_test_split(data,target,test_size=0.1)"
   ]
  },
  {
   "cell_type": "code",
   "execution_count": 19,
   "id": "80f268f1",
   "metadata": {},
   "outputs": [
    {
     "name": "stdout",
     "output_type": "stream",
     "text": [
      "Epoch 1/20\n",
      "820/820 [==============================] - ETA: 0s - loss: 0.2315 - accuracy: 0.9307"
     ]
    },
    {
     "name": "stderr",
     "output_type": "stream",
     "text": [
      "WARNING:absl:Found untraced functions such as _jit_compiled_convolution_op, _jit_compiled_convolution_op, _jit_compiled_convolution_op, _jit_compiled_convolution_op, _jit_compiled_convolution_op while saving (showing 5 of 5). These functions will not be directly callable after loading.\n"
     ]
    },
    {
     "name": "stdout",
     "output_type": "stream",
     "text": [
      "INFO:tensorflow:Assets written to: model-001.model\\assets\n"
     ]
    },
    {
     "name": "stderr",
     "output_type": "stream",
     "text": [
      "INFO:tensorflow:Assets written to: model-001.model\\assets\n"
     ]
    },
    {
     "name": "stdout",
     "output_type": "stream",
     "text": [
      "820/820 [==============================] - 1991s 2s/step - loss: 0.2315 - accuracy: 0.9307 - val_loss: 12.4540 - val_accuracy: 0.4082\n",
      "Epoch 2/20\n",
      "820/820 [==============================] - ETA: 0s - loss: 0.0845 - accuracy: 0.9732"
     ]
    },
    {
     "name": "stderr",
     "output_type": "stream",
     "text": [
      "WARNING:absl:Found untraced functions such as _jit_compiled_convolution_op, _jit_compiled_convolution_op, _jit_compiled_convolution_op, _jit_compiled_convolution_op, _jit_compiled_convolution_op while saving (showing 5 of 5). These functions will not be directly callable after loading.\n"
     ]
    },
    {
     "name": "stdout",
     "output_type": "stream",
     "text": [
      "INFO:tensorflow:Assets written to: model-002.model\\assets\n"
     ]
    },
    {
     "name": "stderr",
     "output_type": "stream",
     "text": [
      "INFO:tensorflow:Assets written to: model-002.model\\assets\n"
     ]
    },
    {
     "name": "stdout",
     "output_type": "stream",
     "text": [
      "820/820 [==============================] - 1995s 2s/step - loss: 0.0845 - accuracy: 0.9732 - val_loss: 11.7514 - val_accuracy: 0.4087\n",
      "Epoch 3/20\n",
      "820/820 [==============================] - ETA: 0s - loss: 0.0545 - accuracy: 0.9815"
     ]
    },
    {
     "name": "stderr",
     "output_type": "stream",
     "text": [
      "WARNING:absl:Found untraced functions such as _jit_compiled_convolution_op, _jit_compiled_convolution_op, _jit_compiled_convolution_op, _jit_compiled_convolution_op, _jit_compiled_convolution_op while saving (showing 5 of 5). These functions will not be directly callable after loading.\n"
     ]
    },
    {
     "name": "stdout",
     "output_type": "stream",
     "text": [
      "INFO:tensorflow:Assets written to: model-003.model\\assets\n"
     ]
    },
    {
     "name": "stderr",
     "output_type": "stream",
     "text": [
      "INFO:tensorflow:Assets written to: model-003.model\\assets\n"
     ]
    },
    {
     "name": "stdout",
     "output_type": "stream",
     "text": [
      "820/820 [==============================] - 2576s 3s/step - loss: 0.0545 - accuracy: 0.9815 - val_loss: 11.5432 - val_accuracy: 0.4076\n",
      "Epoch 4/20\n",
      "820/820 [==============================] - 3641s 4s/step - loss: 0.0396 - accuracy: 0.9876 - val_loss: 13.0961 - val_accuracy: 0.4081\n",
      "Epoch 5/20\n",
      "820/820 [==============================] - 2301s 3s/step - loss: 0.0319 - accuracy: 0.9897 - val_loss: 14.5535 - val_accuracy: 0.4087\n",
      "Epoch 6/20\n",
      "820/820 [==============================] - 1975s 2s/step - loss: 0.0256 - accuracy: 0.9918 - val_loss: 17.1894 - val_accuracy: 0.4072\n",
      "Epoch 7/20\n",
      "820/820 [==============================] - 1975s 2s/step - loss: 0.0202 - accuracy: 0.9934 - val_loss: 14.0924 - val_accuracy: 0.4066\n",
      "Epoch 8/20\n",
      "820/820 [==============================] - 1974s 2s/step - loss: 0.0219 - accuracy: 0.9926 - val_loss: 15.2704 - val_accuracy: 0.4081\n",
      "Epoch 9/20\n",
      "820/820 [==============================] - 2149s 3s/step - loss: 0.0183 - accuracy: 0.9937 - val_loss: 16.8005 - val_accuracy: 0.4082\n",
      "Epoch 10/20\n",
      "820/820 [==============================] - 1979s 2s/step - loss: 0.0142 - accuracy: 0.9952 - val_loss: 25.1894 - val_accuracy: 0.4087\n",
      "Epoch 11/20\n",
      "820/820 [==============================] - 1975s 2s/step - loss: 0.0121 - accuracy: 0.9962 - val_loss: 27.2270 - val_accuracy: 0.4082\n",
      "Epoch 12/20\n",
      "820/820 [==============================] - 2199s 3s/step - loss: 0.0153 - accuracy: 0.9952 - val_loss: 25.3471 - val_accuracy: 0.4087\n",
      "Epoch 13/20\n",
      "820/820 [==============================] - 1966s 2s/step - loss: 0.0180 - accuracy: 0.9945 - val_loss: 27.3404 - val_accuracy: 0.4085\n",
      "Epoch 14/20\n",
      "820/820 [==============================] - 1964s 2s/step - loss: 0.0128 - accuracy: 0.9961 - val_loss: 24.0184 - val_accuracy: 0.4085\n",
      "Epoch 15/20\n",
      "820/820 [==============================] - 1968s 2s/step - loss: 0.0134 - accuracy: 0.9955 - val_loss: 19.9186 - val_accuracy: 0.4087\n",
      "Epoch 16/20\n",
      "820/820 [==============================] - 2147s 3s/step - loss: 0.0102 - accuracy: 0.9966 - val_loss: 28.2612 - val_accuracy: 0.4087\n",
      "Epoch 17/20\n",
      "820/820 [==============================] - 2000s 2s/step - loss: 0.0119 - accuracy: 0.9958 - val_loss: 38.0019 - val_accuracy: 0.4084\n",
      "Epoch 18/20\n",
      "820/820 [==============================] - 1977s 2s/step - loss: 0.0076 - accuracy: 0.9973 - val_loss: 47.3012 - val_accuracy: 0.4087\n",
      "Epoch 19/20\n",
      "820/820 [==============================] - 1998s 2s/step - loss: 0.0099 - accuracy: 0.9968 - val_loss: 48.7147 - val_accuracy: 0.4087\n",
      "Epoch 20/20\n",
      "820/820 [==============================] - 2033s 2s/step - loss: 0.0096 - accuracy: 0.9968 - val_loss: 36.8913 - val_accuracy: 0.4087\n"
     ]
    }
   ],
   "source": [
    "try:\n",
    "    checkpoint = ModelCheckpoint('model-{epoch:03d}.model',monitor='val_loss',verbose=0,save_best_only=True,mode='auto')\n",
    "    history=model.fit(data,target,epochs=20,callbacks=[checkpoint],validation_split=0.2)\n",
    "except Exception as e:\n",
    "    print(\"exception\",e)"
   ]
  },
  {
   "cell_type": "code",
   "execution_count": 20,
   "id": "eeb9df2d",
   "metadata": {},
   "outputs": [],
   "source": [
    "model.save(\"LightRecognition.h5\")"
   ]
  },
  {
   "cell_type": "code",
   "execution_count": null,
   "id": "1af80bd5",
   "metadata": {},
   "outputs": [],
   "source": []
  }
 ],
 "metadata": {
  "kernelspec": {
   "display_name": "Python 3 (ipykernel)",
   "language": "python",
   "name": "python3"
  },
  "language_info": {
   "codemirror_mode": {
    "name": "ipython",
    "version": 3
   },
   "file_extension": ".py",
   "mimetype": "text/x-python",
   "name": "python",
   "nbconvert_exporter": "python",
   "pygments_lexer": "ipython3",
   "version": "3.9.7"
  }
 },
 "nbformat": 4,
 "nbformat_minor": 5
}
